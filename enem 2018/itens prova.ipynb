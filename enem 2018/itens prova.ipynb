{
 "cells": [
  {
   "cell_type": "markdown",
   "metadata": {},
   "source": [
    "#MICRODADOS itens prova 2018"
   ]
  },
  {
   "cell_type": "code",
   "execution_count": 3,
   "metadata": {},
   "outputs": [],
   "source": [
    "import pandas as pd\n",
    "microdados = pd.read_csv(\"ITENS_PROVA_2018.csv\",sep=\";\",encoding='ISO-8859-1')\n",
    "#abrindo o arquivo csv "
   ]
  },
  {
   "cell_type": "code",
   "execution_count": 4,
   "metadata": {},
   "outputs": [
    {
     "data": {
      "text/html": [
       "<div>\n",
       "<style scoped>\n",
       "    .dataframe tbody tr th:only-of-type {\n",
       "        vertical-align: middle;\n",
       "    }\n",
       "\n",
       "    .dataframe tbody tr th {\n",
       "        vertical-align: top;\n",
       "    }\n",
       "\n",
       "    .dataframe thead th {\n",
       "        text-align: right;\n",
       "    }\n",
       "</style>\n",
       "<table border=\"1\" class=\"dataframe\">\n",
       "  <thead>\n",
       "    <tr style=\"text-align: right;\">\n",
       "      <th></th>\n",
       "      <th>CO_POSICAO</th>\n",
       "      <th>SG_AREA</th>\n",
       "      <th>CO_ITEM</th>\n",
       "      <th>TX_GABARITO</th>\n",
       "      <th>CO_HABILIDADE</th>\n",
       "      <th>TX_COR</th>\n",
       "      <th>CO_PROVA</th>\n",
       "      <th>TP_LINGUA</th>\n",
       "      <th>IN_ITEM_ADAPTADO</th>\n",
       "    </tr>\n",
       "  </thead>\n",
       "  <tbody>\n",
       "    <tr>\n",
       "      <th>0</th>\n",
       "      <td>1</td>\n",
       "      <td>LC</td>\n",
       "      <td>85387</td>\n",
       "      <td>C</td>\n",
       "      <td>6</td>\n",
       "      <td>Rosa</td>\n",
       "      <td>457</td>\n",
       "      <td>0.0</td>\n",
       "      <td>0</td>\n",
       "    </tr>\n",
       "    <tr>\n",
       "      <th>1</th>\n",
       "      <td>2</td>\n",
       "      <td>LC</td>\n",
       "      <td>87507</td>\n",
       "      <td>B</td>\n",
       "      <td>6</td>\n",
       "      <td>Rosa</td>\n",
       "      <td>457</td>\n",
       "      <td>0.0</td>\n",
       "      <td>0</td>\n",
       "    </tr>\n",
       "    <tr>\n",
       "      <th>2</th>\n",
       "      <td>3</td>\n",
       "      <td>LC</td>\n",
       "      <td>13652</td>\n",
       "      <td>E</td>\n",
       "      <td>7</td>\n",
       "      <td>Rosa</td>\n",
       "      <td>457</td>\n",
       "      <td>0.0</td>\n",
       "      <td>0</td>\n",
       "    </tr>\n",
       "    <tr>\n",
       "      <th>3</th>\n",
       "      <td>4</td>\n",
       "      <td>LC</td>\n",
       "      <td>95804</td>\n",
       "      <td>D</td>\n",
       "      <td>8</td>\n",
       "      <td>Rosa</td>\n",
       "      <td>457</td>\n",
       "      <td>0.0</td>\n",
       "      <td>0</td>\n",
       "    </tr>\n",
       "    <tr>\n",
       "      <th>4</th>\n",
       "      <td>5</td>\n",
       "      <td>LC</td>\n",
       "      <td>87035</td>\n",
       "      <td>B</td>\n",
       "      <td>5</td>\n",
       "      <td>Rosa</td>\n",
       "      <td>457</td>\n",
       "      <td>0.0</td>\n",
       "      <td>0</td>\n",
       "    </tr>\n",
       "  </tbody>\n",
       "</table>\n",
       "</div>"
      ],
      "text/plain": [
       "   CO_POSICAO SG_AREA  CO_ITEM TX_GABARITO  CO_HABILIDADE TX_COR  CO_PROVA  \\\n",
       "0           1      LC    85387           C              6   Rosa       457   \n",
       "1           2      LC    87507           B              6   Rosa       457   \n",
       "2           3      LC    13652           E              7   Rosa       457   \n",
       "3           4      LC    95804           D              8   Rosa       457   \n",
       "4           5      LC    87035           B              5   Rosa       457   \n",
       "\n",
       "   TP_LINGUA  IN_ITEM_ADAPTADO  \n",
       "0        0.0                 0  \n",
       "1        0.0                 0  \n",
       "2        0.0                 0  \n",
       "3        0.0                 0  \n",
       "4        0.0                 0  "
      ]
     },
     "execution_count": 4,
     "metadata": {},
     "output_type": "execute_result"
    }
   ],
   "source": [
    "microdados.head()\n",
    "#metodo head mostra as 5 primeiras linhas do arquivo"
   ]
  },
  {
   "cell_type": "code",
   "execution_count": 5,
   "metadata": {},
   "outputs": [
    {
     "data": {
      "text/html": [
       "<div>\n",
       "<style scoped>\n",
       "    .dataframe tbody tr th:only-of-type {\n",
       "        vertical-align: middle;\n",
       "    }\n",
       "\n",
       "    .dataframe tbody tr th {\n",
       "        vertical-align: top;\n",
       "    }\n",
       "\n",
       "    .dataframe thead th {\n",
       "        text-align: right;\n",
       "    }\n",
       "</style>\n",
       "<table border=\"1\" class=\"dataframe\">\n",
       "  <thead>\n",
       "    <tr style=\"text-align: right;\">\n",
       "      <th></th>\n",
       "      <th>CO_POSICAO</th>\n",
       "      <th>SG_AREA</th>\n",
       "      <th>CO_ITEM</th>\n",
       "      <th>TX_GABARITO</th>\n",
       "      <th>CO_HABILIDADE</th>\n",
       "      <th>TX_COR</th>\n",
       "      <th>CO_PROVA</th>\n",
       "      <th>TP_LINGUA</th>\n",
       "      <th>IN_ITEM_ADAPTADO</th>\n",
       "    </tr>\n",
       "  </thead>\n",
       "  <tbody>\n",
       "    <tr>\n",
       "      <th>0</th>\n",
       "      <td>1</td>\n",
       "      <td>LC</td>\n",
       "      <td>85387</td>\n",
       "      <td>C</td>\n",
       "      <td>6</td>\n",
       "      <td>Rosa</td>\n",
       "      <td>457</td>\n",
       "      <td>0.0</td>\n",
       "      <td>0</td>\n",
       "    </tr>\n",
       "    <tr>\n",
       "      <th>1</th>\n",
       "      <td>2</td>\n",
       "      <td>LC</td>\n",
       "      <td>87507</td>\n",
       "      <td>B</td>\n",
       "      <td>6</td>\n",
       "      <td>Rosa</td>\n",
       "      <td>457</td>\n",
       "      <td>0.0</td>\n",
       "      <td>0</td>\n",
       "    </tr>\n",
       "    <tr>\n",
       "      <th>2</th>\n",
       "      <td>3</td>\n",
       "      <td>LC</td>\n",
       "      <td>13652</td>\n",
       "      <td>E</td>\n",
       "      <td>7</td>\n",
       "      <td>Rosa</td>\n",
       "      <td>457</td>\n",
       "      <td>0.0</td>\n",
       "      <td>0</td>\n",
       "    </tr>\n",
       "    <tr>\n",
       "      <th>3</th>\n",
       "      <td>4</td>\n",
       "      <td>LC</td>\n",
       "      <td>95804</td>\n",
       "      <td>D</td>\n",
       "      <td>8</td>\n",
       "      <td>Rosa</td>\n",
       "      <td>457</td>\n",
       "      <td>0.0</td>\n",
       "      <td>0</td>\n",
       "    </tr>\n",
       "    <tr>\n",
       "      <th>4</th>\n",
       "      <td>5</td>\n",
       "      <td>LC</td>\n",
       "      <td>87035</td>\n",
       "      <td>B</td>\n",
       "      <td>5</td>\n",
       "      <td>Rosa</td>\n",
       "      <td>457</td>\n",
       "      <td>0.0</td>\n",
       "      <td>0</td>\n",
       "    </tr>\n",
       "    <tr>\n",
       "      <th>...</th>\n",
       "      <td>...</td>\n",
       "      <td>...</td>\n",
       "      <td>...</td>\n",
       "      <td>...</td>\n",
       "      <td>...</td>\n",
       "      <td>...</td>\n",
       "      <td>...</td>\n",
       "      <td>...</td>\n",
       "      <td>...</td>\n",
       "    </tr>\n",
       "    <tr>\n",
       "      <th>1845</th>\n",
       "      <td>176</td>\n",
       "      <td>MT</td>\n",
       "      <td>30334</td>\n",
       "      <td>B</td>\n",
       "      <td>9</td>\n",
       "      <td>Rosa</td>\n",
       "      <td>502</td>\n",
       "      <td>NaN</td>\n",
       "      <td>0</td>\n",
       "    </tr>\n",
       "    <tr>\n",
       "      <th>1846</th>\n",
       "      <td>177</td>\n",
       "      <td>MT</td>\n",
       "      <td>16115</td>\n",
       "      <td>B</td>\n",
       "      <td>27</td>\n",
       "      <td>Rosa</td>\n",
       "      <td>502</td>\n",
       "      <td>NaN</td>\n",
       "      <td>0</td>\n",
       "    </tr>\n",
       "    <tr>\n",
       "      <th>1847</th>\n",
       "      <td>178</td>\n",
       "      <td>MT</td>\n",
       "      <td>86427</td>\n",
       "      <td>D</td>\n",
       "      <td>20</td>\n",
       "      <td>Rosa</td>\n",
       "      <td>502</td>\n",
       "      <td>NaN</td>\n",
       "      <td>0</td>\n",
       "    </tr>\n",
       "    <tr>\n",
       "      <th>1848</th>\n",
       "      <td>179</td>\n",
       "      <td>MT</td>\n",
       "      <td>16949</td>\n",
       "      <td>C</td>\n",
       "      <td>3</td>\n",
       "      <td>Rosa</td>\n",
       "      <td>502</td>\n",
       "      <td>NaN</td>\n",
       "      <td>0</td>\n",
       "    </tr>\n",
       "    <tr>\n",
       "      <th>1849</th>\n",
       "      <td>180</td>\n",
       "      <td>MT</td>\n",
       "      <td>31817</td>\n",
       "      <td>E</td>\n",
       "      <td>1</td>\n",
       "      <td>Rosa</td>\n",
       "      <td>502</td>\n",
       "      <td>NaN</td>\n",
       "      <td>0</td>\n",
       "    </tr>\n",
       "  </tbody>\n",
       "</table>\n",
       "<p>1850 rows × 9 columns</p>\n",
       "</div>"
      ],
      "text/plain": [
       "      CO_POSICAO SG_AREA  CO_ITEM TX_GABARITO  CO_HABILIDADE TX_COR  CO_PROVA  \\\n",
       "0              1      LC    85387           C              6   Rosa       457   \n",
       "1              2      LC    87507           B              6   Rosa       457   \n",
       "2              3      LC    13652           E              7   Rosa       457   \n",
       "3              4      LC    95804           D              8   Rosa       457   \n",
       "4              5      LC    87035           B              5   Rosa       457   \n",
       "...          ...     ...      ...         ...            ...    ...       ...   \n",
       "1845         176      MT    30334           B              9   Rosa       502   \n",
       "1846         177      MT    16115           B             27   Rosa       502   \n",
       "1847         178      MT    86427           D             20   Rosa       502   \n",
       "1848         179      MT    16949           C              3   Rosa       502   \n",
       "1849         180      MT    31817           E              1   Rosa       502   \n",
       "\n",
       "      TP_LINGUA  IN_ITEM_ADAPTADO  \n",
       "0           0.0                 0  \n",
       "1           0.0                 0  \n",
       "2           0.0                 0  \n",
       "3           0.0                 0  \n",
       "4           0.0                 0  \n",
       "...         ...               ...  \n",
       "1845        NaN                 0  \n",
       "1846        NaN                 0  \n",
       "1847        NaN                 0  \n",
       "1848        NaN                 0  \n",
       "1849        NaN                 0  \n",
       "\n",
       "[1850 rows x 9 columns]"
      ]
     },
     "execution_count": 5,
     "metadata": {},
     "output_type": "execute_result"
    }
   ],
   "source": [
    "microdados"
   ]
  },
  {
   "cell_type": "code",
   "execution_count": 8,
   "metadata": {},
   "outputs": [
    {
     "data": {
      "text/plain": [
       "array(['CO_POSICAO', 'SG_AREA', 'CO_ITEM', 'TX_GABARITO', 'CO_HABILIDADE',\n",
       "       'TX_COR', 'CO_PROVA', 'TP_LINGUA', 'IN_ITEM_ADAPTADO'],\n",
       "      dtype=object)"
      ]
     },
     "execution_count": 8,
     "metadata": {},
     "output_type": "execute_result"
    }
   ],
   "source": [
    "microdados.columns.values\n",
    "#cria uma lista com todas as colunas do dataset"
   ]
  },
  {
   "cell_type": "code",
   "execution_count": 10,
   "metadata": {},
   "outputs": [],
   "source": [
    "#para trabalhar com um dataset menor pode-se utilizar menos colunas com ajuda do metodo filter\n",
    "#e armazena-lo em uma nova variavel\n",
    "colunasSelecionadas = ['CO_POSICAO', 'SG_AREA', 'CO_ITEM', 'TX_GABARITO', 'CO_HABILIDADE',\n",
    "       'TX_COR', 'CO_PROVA', 'TP_LINGUA', 'IN_ITEM_ADAPTADO']\n",
    "microdadosSelecionados = microdados.filter(items=colunasSelecionadas)"
   ]
  },
  {
   "cell_type": "code",
   "execution_count": 11,
   "metadata": {},
   "outputs": [
    {
     "data": {
      "text/html": [
       "<div>\n",
       "<style scoped>\n",
       "    .dataframe tbody tr th:only-of-type {\n",
       "        vertical-align: middle;\n",
       "    }\n",
       "\n",
       "    .dataframe tbody tr th {\n",
       "        vertical-align: top;\n",
       "    }\n",
       "\n",
       "    .dataframe thead th {\n",
       "        text-align: right;\n",
       "    }\n",
       "</style>\n",
       "<table border=\"1\" class=\"dataframe\">\n",
       "  <thead>\n",
       "    <tr style=\"text-align: right;\">\n",
       "      <th></th>\n",
       "      <th>CO_POSICAO</th>\n",
       "      <th>SG_AREA</th>\n",
       "      <th>CO_ITEM</th>\n",
       "      <th>TX_GABARITO</th>\n",
       "      <th>CO_HABILIDADE</th>\n",
       "      <th>TX_COR</th>\n",
       "      <th>CO_PROVA</th>\n",
       "      <th>TP_LINGUA</th>\n",
       "      <th>IN_ITEM_ADAPTADO</th>\n",
       "    </tr>\n",
       "  </thead>\n",
       "  <tbody>\n",
       "    <tr>\n",
       "      <th>0</th>\n",
       "      <td>1</td>\n",
       "      <td>LC</td>\n",
       "      <td>85387</td>\n",
       "      <td>C</td>\n",
       "      <td>6</td>\n",
       "      <td>Rosa</td>\n",
       "      <td>457</td>\n",
       "      <td>0.0</td>\n",
       "      <td>0</td>\n",
       "    </tr>\n",
       "    <tr>\n",
       "      <th>1</th>\n",
       "      <td>2</td>\n",
       "      <td>LC</td>\n",
       "      <td>87507</td>\n",
       "      <td>B</td>\n",
       "      <td>6</td>\n",
       "      <td>Rosa</td>\n",
       "      <td>457</td>\n",
       "      <td>0.0</td>\n",
       "      <td>0</td>\n",
       "    </tr>\n",
       "    <tr>\n",
       "      <th>2</th>\n",
       "      <td>3</td>\n",
       "      <td>LC</td>\n",
       "      <td>13652</td>\n",
       "      <td>E</td>\n",
       "      <td>7</td>\n",
       "      <td>Rosa</td>\n",
       "      <td>457</td>\n",
       "      <td>0.0</td>\n",
       "      <td>0</td>\n",
       "    </tr>\n",
       "    <tr>\n",
       "      <th>3</th>\n",
       "      <td>4</td>\n",
       "      <td>LC</td>\n",
       "      <td>95804</td>\n",
       "      <td>D</td>\n",
       "      <td>8</td>\n",
       "      <td>Rosa</td>\n",
       "      <td>457</td>\n",
       "      <td>0.0</td>\n",
       "      <td>0</td>\n",
       "    </tr>\n",
       "    <tr>\n",
       "      <th>4</th>\n",
       "      <td>5</td>\n",
       "      <td>LC</td>\n",
       "      <td>87035</td>\n",
       "      <td>B</td>\n",
       "      <td>5</td>\n",
       "      <td>Rosa</td>\n",
       "      <td>457</td>\n",
       "      <td>0.0</td>\n",
       "      <td>0</td>\n",
       "    </tr>\n",
       "  </tbody>\n",
       "</table>\n",
       "</div>"
      ],
      "text/plain": [
       "   CO_POSICAO SG_AREA  CO_ITEM TX_GABARITO  CO_HABILIDADE TX_COR  CO_PROVA  \\\n",
       "0           1      LC    85387           C              6   Rosa       457   \n",
       "1           2      LC    87507           B              6   Rosa       457   \n",
       "2           3      LC    13652           E              7   Rosa       457   \n",
       "3           4      LC    95804           D              8   Rosa       457   \n",
       "4           5      LC    87035           B              5   Rosa       457   \n",
       "\n",
       "   TP_LINGUA  IN_ITEM_ADAPTADO  \n",
       "0        0.0                 0  \n",
       "1        0.0                 0  \n",
       "2        0.0                 0  \n",
       "3        0.0                 0  \n",
       "4        0.0                 0  "
      ]
     },
     "execution_count": 11,
     "metadata": {},
     "output_type": "execute_result"
    }
   ],
   "source": [
    "microdadosSelecionados.head()"
   ]
  },
  {
   "cell_type": "code",
   "execution_count": 16,
   "metadata": {},
   "outputs": [],
   "source": [
    "tx_gabarito = microdadosSelecionados['TX_GABARITO']\n",
    "# para saber quantas linhas tem uma coluna especifica\n",
    "#cria uma nova variavel e atribue a ela o nome da coluna que deseja a patir da variavel microdadosSelecionados"
   ]
  },
  {
   "cell_type": "code",
   "execution_count": 17,
   "metadata": {},
   "outputs": [
    {
     "data": {
      "text/plain": [
       "0       C\n",
       "1       B\n",
       "2       E\n",
       "3       D\n",
       "4       B\n",
       "       ..\n",
       "1845    B\n",
       "1846    B\n",
       "1847    D\n",
       "1848    C\n",
       "1849    E\n",
       "Name: TX_GABARITO, Length: 1850, dtype: object"
      ]
     },
     "execution_count": 17,
     "metadata": {},
     "output_type": "execute_result"
    }
   ],
   "source": [
    "tx_gabarito"
   ]
  },
  {
   "cell_type": "code",
   "execution_count": 19,
   "metadata": {},
   "outputs": [
    {
     "data": {
      "text/plain": [
       "B    417\n",
       "E    394\n",
       "D    378\n",
       "C    349\n",
       "A    306\n",
       "X      6\n",
       "Name: TX_GABARITO, dtype: int64"
      ]
     },
     "execution_count": 19,
     "metadata": {},
     "output_type": "execute_result"
    }
   ],
   "source": [
    "tx_gabarito.value_counts()\n",
    "#o metodo value_couts() retorna a quantidade de linhas que cada coluna especifica possui(unique value)\n",
    "#similar ao DISTINCT GROUP BY clause em sql"
   ]
  },
  {
   "cell_type": "code",
   "execution_count": 20,
   "metadata": {},
   "outputs": [
    {
     "data": {
      "text/plain": [
       "A    306\n",
       "B    417\n",
       "C    349\n",
       "D    378\n",
       "E    394\n",
       "X      6\n",
       "Name: TX_GABARITO, dtype: int64"
      ]
     },
     "execution_count": 20,
     "metadata": {},
     "output_type": "execute_result"
    }
   ],
   "source": [
    "tx_gabarito.value_counts().sort_index()\n",
    "#retorna a mesma coisa de forma ordenada "
   ]
  },
  {
   "cell_type": "code",
   "execution_count": 21,
   "metadata": {},
   "outputs": [],
   "source": [
    "import matplotlib"
   ]
  },
  {
   "cell_type": "code",
   "execution_count": 22,
   "metadata": {},
   "outputs": [
    {
     "name": "stderr",
     "output_type": "stream",
     "text": [
      "Matplotlib is building the font cache; this may take a moment.\n"
     ]
    },
    {
     "data": {
      "text/plain": [
       "<AxesSubplot:>"
      ]
     },
     "execution_count": 22,
     "metadata": {},
     "output_type": "execute_result"
    },
    {
     "data": {
      "image/png": "[encoded data removed]",
      "text/plain": [
       "<Figure size 432x288 with 1 Axes>"
      ]
     },
     "metadata": {
      "needs_background": "light"
     },
     "output_type": "display_data"
    }
   ],
   "source": [
    "tx_gabarito.hist()\n",
    "#metodo para montar um histograma"
   ]
  },
  {
   "cell_type": "code",
   "execution_count": 23,
   "metadata": {},
   "outputs": [
    {
     "data": {
      "text/plain": [
       "'C'"
      ]
     },
     "execution_count": 23,
     "metadata": {},
     "output_type": "execute_result"
    }
   ],
   "source": [
    "tx_gabarito[0]"
   ]
  },
  {
   "cell_type": "code",
   "execution_count": null,
   "metadata": {},
   "outputs": [],
   "source": []
  }
 ],
 "metadata": {
  "kernelspec": {
   "display_name": "Python 3",
   "language": "python",
   "name": "python3"
  },
  "language_info": {
   "codemirror_mode": {
    "name": "ipython",
    "version": 3
   },
   "file_extension": ".py",
   "mimetype": "text/x-python",
   "name": "python",
   "nbconvert_exporter": "python",
   "pygments_lexer": "ipython3",
   "version": "3.8.5"
  }
 },
 "nbformat": 4,
 "nbformat_minor": 4
}
